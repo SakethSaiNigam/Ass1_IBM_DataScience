{
 "cells": [
  {
   "cell_type": "markdown",
   "id": "91d904e6",
   "metadata": {},
   "source": [
    "\n",
    "# Exploring Data Science Tools and Concepts"
   ]
  },
  {
   "cell_type": "markdown",
   "id": "505920c9",
   "metadata": {},
   "source": [
    "### Introduction:\n",
    "\n",
    "Welcome to my Jupyterlite Notebook exploring various data science tools, languages, and concepts. In this notebook, we will delve into the fundamentals of data science and explore different tools used in the field."
   ]
  },
  {
   "cell_type": "markdown",
   "id": "5106437f",
   "metadata": {},
   "source": [
    "### Data Science Languages:\n",
    "\n",
    "* Python\n",
    "* R\n",
    "* SQL"
   ]
  },
  {
   "cell_type": "markdown",
   "id": "1283e85b",
   "metadata": {},
   "source": [
    "### Data Science Libraries:\n",
    "\n",
    "* Pandas\n",
    "* NumPy\n",
    "* Matplotlib\n",
    "* Scikit-learn\n",
    "* TensorFlow\n",
    "* PyTorch"
   ]
  },
  {
   "cell_type": "markdown",
   "id": "f36a287f",
   "metadata": {},
   "source": [
    "### Data Science Tools Table:\n",
    "\n",
    "| Tool             | Description                              |\n",
    "|------------------|------------------------------------------|\n",
    "| Jupyter Notebook| Interactive computing environment       |\n",
    "| VS Code         | Integrated development environment      |\n",
    "| Tableau         | Data visualization and analytics tool   |\n",
    "| Apache Spark    | Distributed computing engine            |\n",
    "| Docker          | Containerization platform               |\n"
   ]
  },
  {
   "cell_type": "markdown",
   "id": "4cc0379f",
   "metadata": {},
   "source": [
    "### Arithmetic Expression Examples:\n",
    "\n",
    "In this section, we will demonstrate some basic arithmetic operations using Python."
   ]
  },
  {
   "cell_type": "markdown",
   "id": "fb214994",
   "metadata": {},
   "source": [
    "Code Cell - Multiplication and Addition && Conversion from Minutes to Hours:"
   ]
  },
  {
   "cell_type": "code",
   "execution_count": 5,
   "id": "138ffb98",
   "metadata": {},
   "outputs": [
    {
     "name": "stdout",
     "output_type": "stream",
     "text": [
      "Result of multiplication: 15\n",
      "Result of addition: 8\n"
     ]
    }
   ],
   "source": [
    "# Multiplication\n",
    "result_multiply = 5 * 3\n",
    "print(\"Result of multiplication:\", result_multiply)\n",
    "\n",
    "# Addition\n",
    "result_addition = 5 + 3\n",
    "print(\"Result of addition:\", result_addition)"
   ]
  },
  {
   "cell_type": "code",
   "execution_count": 4,
   "id": "75ca4158",
   "metadata": {},
   "outputs": [
    {
     "name": "stdout",
     "output_type": "stream",
     "text": [
      "150 minutes is equal to 2.5 hours\n"
     ]
    }
   ],
   "source": [
    "# Conversion from minutes to hours\n",
    "minutes = 150\n",
    "hours = minutes / 60\n",
    "print(\"150 minutes is equal to\", hours, \"hours\")"
   ]
  },
  {
   "cell_type": "markdown",
   "id": "6637cd45",
   "metadata": {},
   "source": [
    "### Objectives:\n",
    "\n",
    "* Introduce fundamental data science concepts\n",
    "* Explore popular data science tools and languages\n",
    "* Demonstrate basic arithmetic operations in Python\n"
   ]
  },
  {
   "cell_type": "markdown",
   "id": "48dcf33f",
   "metadata": {},
   "source": [
    "### Author's Name:\n",
    "\n",
    "SAKETH SAI NIGAM KANDURI"
   ]
  }
 ],
 "metadata": {
  "kernelspec": {
   "display_name": "Python 3 (ipykernel)",
   "language": "python",
   "name": "python3"
  },
  "language_info": {
   "codemirror_mode": {
    "name": "ipython",
    "version": 3
   },
   "file_extension": ".py",
   "mimetype": "text/x-python",
   "name": "python",
   "nbconvert_exporter": "python",
   "pygments_lexer": "ipython3",
   "version": "3.9.13"
  }
 },
 "nbformat": 4,
 "nbformat_minor": 5
}
